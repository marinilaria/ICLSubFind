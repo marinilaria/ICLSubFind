{
 "cells": [
  {
   "cell_type": "markdown",
   "id": "f23f6c12",
   "metadata": {},
   "source": [
    "## Loading the model to classify"
   ]
  },
  {
   "cell_type": "markdown",
   "id": "e3b78f36",
   "metadata": {},
   "source": [
    "This notebook provides a quick example on how to use the package and apply it to hydrodynamical simulations. Firstly, we load a minimum set of libraries."
   ]
  },
  {
   "cell_type": "code",
   "execution_count": 8,
   "id": "d30257d1",
   "metadata": {},
   "outputs": [],
   "source": [
    "import joblib\n",
    "\n",
    "\n",
    "#I am loading pandas to create an array, but you can use your preferred library\n",
    "import pandas as pd\n",
    "import numpy as np"
   ]
  },
  {
   "cell_type": "markdown",
   "id": "adc9f2c0",
   "metadata": {},
   "source": [
    "We load the Random Forest classifier trained to sort star particles between BCG and ICL. "
   ]
  },
  {
   "cell_type": "code",
   "execution_count": 23,
   "id": "9d4083bc",
   "metadata": {
    "scrolled": true
   },
   "outputs": [
    {
     "name": "stderr",
     "output_type": "stream",
     "text": [
      "/Users/imarini/Library/Python/3.9/lib/python/site-packages/sklearn/base.py:318: UserWarning: Trying to unpickle estimator DecisionTreeClassifier from version 0.23.2 when using version 1.2.2. This might lead to breaking code or invalid results. Use at your own risk. For more info please refer to:\n",
      "https://scikit-learn.org/stable/model_persistence.html#security-maintainability-limitations\n",
      "  warnings.warn(\n",
      "/Users/imarini/Library/Python/3.9/lib/python/site-packages/sklearn/base.py:318: UserWarning: Trying to unpickle estimator RandomForestClassifier from version 0.23.2 when using version 1.2.2. This might lead to breaking code or invalid results. Use at your own risk. For more info please refer to:\n",
      "https://scikit-learn.org/stable/model_persistence.html#security-maintainability-limitations\n",
      "  warnings.warn(\n"
     ]
    }
   ],
   "source": [
    "model=joblib.load('Best_Model-Random-3par.pkl')\n"
   ]
  },
  {
   "cell_type": "markdown",
   "id": "d84d5ebf",
   "metadata": {},
   "source": [
    "## Preparing the input data."
   ]
  },
  {
   "cell_type": "markdown",
   "id": "7d552d23",
   "metadata": {},
   "source": [
    "We need to provide to the Random Forest a matrix of size (3, N) where N is the number of star particles to classify. The data needs to be provided in a very specific order, as the model was trained to receive it. Thus, we need to pass:\n",
    "\n",
    "1. Clustercentric-distance (position) of the star particle normalised for $R_{200}$ (critical) of the halo;\n",
    "2. Rest-frame velocity of the star particle normalised for $V_{200}$ (critical) of the halo:\n",
    "3. Logarithmic halo mass $M_{200}$.\n",
    "\n",
    "A few remarks. The clustercentric distance is intended as the module of the vector centered on the center of mass of the halo ($x_0, y_0, z_0$) and directed to the position of the star particle ($x,y,z$). Thus, in mathematical form,\n",
    "\n",
    "    r = sqrt((x-x0)^2+(y-y0)^2+(z-z0)^2).\n",
    "    \n",
    "The rest-frame velocity is with respect to the velocity of the particles in the halo. On the other hand,\n",
    " $V_{200}$ = sqrt(G * $M_{200}$/$R_{200}$)\n",
    "where G is the gravitational constant, $M_{200}$ is the halo mass within a overdensity 200 times the critical density of the universe and $R_{200}$ is the corresponding radius. \n",
    "Finally, the last parameter is given as the logarithm of the halo mass $M_{200}$ normalised for a nominal mass $M_{0}$ which we assumed to be $M_{0} = 10^{14} M_{\\odot}$."
   ]
  },
  {
   "cell_type": "markdown",
   "id": "4ec241f6",
   "metadata": {},
   "source": [
    "For illustrative purposes I am going to create a sample of data. Notice that this does not replicate a physically possible system."
   ]
  },
  {
   "cell_type": "code",
   "execution_count": 19,
   "id": "2908e404",
   "metadata": {},
   "outputs": [],
   "source": [
    "#Gravitational constant\n",
    "G = 4.30091e-6 #kpc Msun^-1 (km/s)^2\n",
    "\n",
    "\n",
    "#Let us classify N stars\n",
    "N = 20\n",
    "r = np.random.randn(N)*100 +300    #kpc\n",
    "v = np.random.randn(N)*5+100       #km/s\n",
    "\n",
    "M200 = 2.98e13                     #Msun\n",
    "R200 = 464.97                      #kpc \n",
    "V200 = np.sqrt(G*M200/R200)        #km/s"
   ]
  },
  {
   "cell_type": "markdown",
   "id": "1e0e9095",
   "metadata": {},
   "source": [
    "Create mock array to classify"
   ]
  },
  {
   "cell_type": "code",
   "execution_count": 20,
   "id": "434df884",
   "metadata": {},
   "outputs": [],
   "source": [
    "Data = pd.DataFrame({'distance':np.log10(r/R200),'velocity':v/V200,'logm200':[np.log10(M200*1e-14)]*len(v)})\n",
    "\n",
    "#Need to remove all infinite values\n",
    "Data = Data.replace([np.inf, -np.inf], np.nan).dropna(axis=0)\n"
   ]
  },
  {
   "cell_type": "markdown",
   "id": "93199d34",
   "metadata": {},
   "source": [
    "## Results of the classification"
   ]
  },
  {
   "cell_type": "markdown",
   "id": "88ed76b0",
   "metadata": {},
   "source": [
    "The classifier returns a binary array of the same size of the input file. The binary classification defines the outcome of the sorting for each particle.\n",
    "\n",
    "See below:\n",
    "- predictions == 1 --> the particle is bound to the BCG\n",
    "- predictions == 0 --> the particle is bound to the ICL"
   ]
  },
  {
   "cell_type": "code",
   "execution_count": 24,
   "id": "b4810016",
   "metadata": {},
   "outputs": [
    {
     "name": "stderr",
     "output_type": "stream",
     "text": [
      "/Users/imarini/Library/Python/3.9/lib/python/site-packages/sklearn/base.py:432: UserWarning: X has feature names, but RandomForestClassifier was fitted without feature names\n",
      "  warnings.warn(\n"
     ]
    }
   ],
   "source": [
    "final_predictions = model.predict(Data)\n",
    "\n"
   ]
  },
  {
   "cell_type": "markdown",
   "id": "1dcb60ab",
   "metadata": {},
   "source": [
    "Use the results as a flag to mask or not mask your particles"
   ]
  },
  {
   "cell_type": "code",
   "execution_count": 26,
   "id": "d7a5b70f",
   "metadata": {},
   "outputs": [
    {
     "name": "stdout",
     "output_type": "stream",
     "text": [
      "[0. 1. 0. 1. 1. 1. 0. 1. 1. 1. 1. 1. 1. 1. 1. 1. 1. 1. 1. 1.]\n"
     ]
    }
   ],
   "source": [
    "print (final_predictions)"
   ]
  },
  {
   "cell_type": "code",
   "execution_count": null,
   "id": "2a2dbeea",
   "metadata": {},
   "outputs": [],
   "source": []
  }
 ],
 "metadata": {
  "kernelspec": {
   "display_name": "Python 3 (ipykernel)",
   "language": "python",
   "name": "python3"
  },
  "language_info": {
   "codemirror_mode": {
    "name": "ipython",
    "version": 3
   },
   "file_extension": ".py",
   "mimetype": "text/x-python",
   "name": "python",
   "nbconvert_exporter": "python",
   "pygments_lexer": "ipython3",
   "version": "3.9.6"
  }
 },
 "nbformat": 4,
 "nbformat_minor": 5
}
